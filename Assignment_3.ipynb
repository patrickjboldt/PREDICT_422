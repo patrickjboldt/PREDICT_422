{
  "nbformat": 4,
  "nbformat_minor": 0,
  "metadata": {
    "colab": {
      "name": "Assignment_3.ipynb",
      "version": "0.3.2",
      "provenance": [],
      "include_colab_link": true
    },
    "kernelspec": {
      "name": "python3",
      "display_name": "Python 3"
    }
  },
  "cells": [
    {
      "cell_type": "markdown",
      "metadata": {
        "id": "view-in-github",
        "colab_type": "text"
      },
      "source": [
        "[![Open In Colab](https://colab.research.google.com/assets/colab-badge.svg)](https://colab.research.google.com/github/patrickjboldt/PREDICT_422/blob/master/Assignment_3.ipynb)"
      ]
    },
    {
      "metadata": {
        "id": "yw9J7wv35wXr",
        "colab_type": "code",
        "colab": {
          "base_uri": "https://localhost:8080/",
          "height": 493
        },
        "outputId": "6dcc8479-799e-443a-8dc8-40da74386de7"
      },
      "cell_type": "code",
      "source": [
        "# seed value for random number generators to obtain reproducible results\n",
        "RANDOM_SEED = 1\n",
        "\n",
        "SET_FIT_INTERCEPT = True\n",
        "\n",
        "# import base packages into the namespace for this program\n",
        "import numpy as np\n",
        "import pandas as pd\n",
        "\n",
        "import sklearn.linear_model \n",
        "from sklearn.linear_model import LinearRegression, Ridge, Lasso, ElasticNet\n",
        "from sklearn.metrics import mean_squared_error, r2_score  \n",
        "from math import sqrt\n",
        "\n",
        "# read data for the Boston Housing Study\n",
        "# creating data frame restdata\n",
        "boston_input = pd.read_csv(\"https://raw.githubusercontent.com/patrickjboldt/PREDICT_422/master/boston.csv\")\n",
        "\n",
        "# check the pandas DataFrame object boston_input\n",
        "print('\\nboston DataFrame (first and last five rows):')\n",
        "print(boston_input.head())\n",
        "print(boston_input.tail())\n"
      ],
      "execution_count": 6,
      "outputs": [
        {
          "output_type": "stream",
          "text": [
            "\n",
            "boston DataFrame (first and last five rows):\n",
            "  neighborhood     crim    zn  indus  chas    nox  rooms   age     dis  rad  \\\n",
            "0       Nahant  0.00632  18.0   2.31     0  0.538  6.575  65.2  4.0900    1   \n",
            "1   Swampscott  0.02731   0.0   7.07     0  0.469  6.421  78.9  4.9671    2   \n",
            "2   Swanpscott  0.02729   0.0   7.07     0  0.469  7.185  61.1  4.9671    2   \n",
            "3   Marblehead  0.03237   0.0   2.18     0  0.458  6.998  45.8  6.0622    3   \n",
            "4   Marblehead  0.06905   0.0   2.18     0  0.458  7.147  54.2  6.0622    3   \n",
            "\n",
            "   tax  ptratio  lstat    mv  \n",
            "0  296     15.3   4.98  24.0  \n",
            "1  242     17.8   9.14  21.6  \n",
            "2  242     17.8   4.03  34.7  \n",
            "3  222     18.7   2.94  33.4  \n",
            "4  222     18.7   5.33  36.2  \n",
            "    neighborhood     crim   zn  indus  chas    nox  rooms   age     dis  rad  \\\n",
            "501     Winthrop  0.06263  0.0  11.93     0  0.573  6.593  69.1  2.4786    1   \n",
            "502     Winthrop  0.04527  0.0  11.93     0  0.573  6.120  76.7  2.2875    1   \n",
            "503     Winthrop  0.06076  0.0  11.93     0  0.573  6.976  91.0  2.1675    1   \n",
            "504     Winthrop  0.10959  0.0  11.93     0  0.573  6.794  89.3  2.3889    1   \n",
            "505     Winthrop  0.04741  0.0  11.93     0  0.573  6.030  80.8  2.5050    1   \n",
            "\n",
            "     tax  ptratio  lstat    mv  \n",
            "501  273     21.0   9.67  22.4  \n",
            "502  273     21.0   9.08  20.6  \n",
            "503  273     21.0   5.64  23.9  \n",
            "504  273     21.0   6.48  22.0  \n",
            "505  273     21.0   7.88  19.0  \n"
          ],
          "name": "stdout"
        }
      ]
    },
    {
      "metadata": {
        "id": "DqqsI5DVBFLT",
        "colab_type": "code",
        "colab": {
          "base_uri": "https://localhost:8080/",
          "height": 391
        },
        "outputId": "14b8de2f-5658-4a58-b6ec-c8ccae3b24b1"
      },
      "cell_type": "code",
      "source": [
        "print('\\nGeneral description of the boston_input DataFrame:')\n",
        "print(boston_input.info())"
      ],
      "execution_count": 7,
      "outputs": [
        {
          "output_type": "stream",
          "text": [
            "\n",
            "General description of the boston_input DataFrame:\n",
            "<class 'pandas.core.frame.DataFrame'>\n",
            "RangeIndex: 506 entries, 0 to 505\n",
            "Data columns (total 14 columns):\n",
            "neighborhood    506 non-null object\n",
            "crim            506 non-null float64\n",
            "zn              506 non-null float64\n",
            "indus           506 non-null float64\n",
            "chas            506 non-null int64\n",
            "nox             506 non-null float64\n",
            "rooms           506 non-null float64\n",
            "age             506 non-null float64\n",
            "dis             506 non-null float64\n",
            "rad             506 non-null int64\n",
            "tax             506 non-null int64\n",
            "ptratio         506 non-null float64\n",
            "lstat           506 non-null float64\n",
            "mv              506 non-null float64\n",
            "dtypes: float64(10), int64(3), object(1)\n",
            "memory usage: 55.4+ KB\n",
            "None\n"
          ],
          "name": "stdout"
        }
      ]
    },
    {
      "metadata": {
        "id": "jpajsCITBYeY",
        "colab_type": "code",
        "colab": {
          "base_uri": "https://localhost:8080/",
          "height": 374
        },
        "outputId": "a3236bc0-221f-407a-d278-996638e6de7d"
      },
      "cell_type": "code",
      "source": [
        "# drop neighborhood from the data being considered\n",
        "boston = boston_input.drop('neighborhood', 1)\n",
        "print('\\nGeneral description of the boston DataFrame:')\n",
        "print(boston.info())"
      ],
      "execution_count": 8,
      "outputs": [
        {
          "output_type": "stream",
          "text": [
            "\n",
            "General description of the boston DataFrame:\n",
            "<class 'pandas.core.frame.DataFrame'>\n",
            "RangeIndex: 506 entries, 0 to 505\n",
            "Data columns (total 13 columns):\n",
            "crim       506 non-null float64\n",
            "zn         506 non-null float64\n",
            "indus      506 non-null float64\n",
            "chas       506 non-null int64\n",
            "nox        506 non-null float64\n",
            "rooms      506 non-null float64\n",
            "age        506 non-null float64\n",
            "dis        506 non-null float64\n",
            "rad        506 non-null int64\n",
            "tax        506 non-null int64\n",
            "ptratio    506 non-null float64\n",
            "lstat      506 non-null float64\n",
            "mv         506 non-null float64\n",
            "dtypes: float64(10), int64(3)\n",
            "memory usage: 51.5 KB\n",
            "None\n"
          ],
          "name": "stdout"
        }
      ]
    },
    {
      "metadata": {
        "id": "6Wnx8nTVBejp",
        "colab_type": "code",
        "colab": {
          "base_uri": "https://localhost:8080/",
          "height": 544
        },
        "outputId": "8a70c70e-d1d6-4448-d000-a0e2ece3685a"
      },
      "cell_type": "code",
      "source": [
        "print('\\nDescriptive statistics of the boston DataFrame:')\n",
        "print(boston.describe())"
      ],
      "execution_count": 9,
      "outputs": [
        {
          "output_type": "stream",
          "text": [
            "\n",
            "Descriptive statistics of the boston DataFrame:\n",
            "             crim          zn       indus        chas         nox       rooms  \\\n",
            "count  506.000000  506.000000  506.000000  506.000000  506.000000  506.000000   \n",
            "mean     3.613524   11.363636   11.136779    0.069170    0.554695    6.284634   \n",
            "std      8.601545   23.322453    6.860353    0.253994    0.115878    0.702617   \n",
            "min      0.006320    0.000000    0.460000    0.000000    0.385000    3.561000   \n",
            "25%      0.082045    0.000000    5.190000    0.000000    0.449000    5.885500   \n",
            "50%      0.256510    0.000000    9.690000    0.000000    0.538000    6.208500   \n",
            "75%      3.677082   12.500000   18.100000    0.000000    0.624000    6.623500   \n",
            "max     88.976200  100.000000   27.740000    1.000000    0.871000    8.780000   \n",
            "\n",
            "              age         dis         rad         tax     ptratio       lstat  \\\n",
            "count  506.000000  506.000000  506.000000  506.000000  506.000000  506.000000   \n",
            "mean    68.574901    3.795043    9.549407  408.237154   18.455534   12.653063   \n",
            "std     28.148861    2.105710    8.707259  168.537116    2.164946    7.141062   \n",
            "min      2.900000    1.129600    1.000000  187.000000   12.600000    1.730000   \n",
            "25%     45.025000    2.100175    4.000000  279.000000   17.400000    6.950000   \n",
            "50%     77.500000    3.207450    5.000000  330.000000   19.050000   11.360000   \n",
            "75%     94.075000    5.188425   24.000000  666.000000   20.200000   16.955000   \n",
            "max    100.000000   12.126500   24.000000  711.000000   22.000000   37.970000   \n",
            "\n",
            "               mv  \n",
            "count  506.000000  \n",
            "mean    22.528854  \n",
            "std      9.182176  \n",
            "min      5.000000  \n",
            "25%     17.025000  \n",
            "50%     21.200000  \n",
            "75%     25.000000  \n",
            "max     50.000000  \n"
          ],
          "name": "stdout"
        }
      ]
    },
    {
      "metadata": {
        "id": "3Bc1vQJEBuOY",
        "colab_type": "code",
        "colab": {
          "base_uri": "https://localhost:8080/",
          "height": 51
        },
        "outputId": "611446a9-cafa-497f-a99b-0c172a96dd4b"
      },
      "cell_type": "code",
      "source": [
        "# set up preliminary data for data for fitting the models \n",
        "# the first column is the median housing value response\n",
        "# the remaining columns are the explanatory variables\n",
        "prelim_model_data = np.array([boston.mv,\\\n",
        "    boston.crim,\\\n",
        "    boston.zn,\\\n",
        "    boston.indus,\\\n",
        "    boston.chas,\\\n",
        "    boston.nox,\\\n",
        "    boston.rooms,\\\n",
        "    boston.age,\\\n",
        "    boston.dis,\\\n",
        "    boston.rad,\\\n",
        "    boston.tax,\\\n",
        "    boston.ptratio,\\\n",
        "    boston.lstat]).T\n",
        "\n",
        "\n",
        "# dimensions of the polynomial model X input and y response\n",
        "# preliminary data before standardization\n",
        "print('\\nData dimensions:', prelim_model_data.shape)"
      ],
      "execution_count": 10,
      "outputs": [
        {
          "output_type": "stream",
          "text": [
            "\n",
            "Data dimensions: (506, 13)\n"
          ],
          "name": "stdout"
        }
      ]
    },
    {
      "metadata": {
        "id": "z2Kx0q_nB3eK",
        "colab_type": "code",
        "colab": {
          "base_uri": "https://localhost:8080/",
          "height": 204
        },
        "outputId": "d998d390-aff5-4b32-d5da-99b19ecc266c"
      },
      "cell_type": "code",
      "source": [
        "\n",
        "# standard scores for the columns... along axis 0\n",
        "from sklearn.preprocessing import StandardScaler\n",
        "scaler = StandardScaler()\n",
        "print(scaler.fit(prelim_model_data))\n",
        "# show standardization constants being employed\n",
        "print(scaler.mean_)\n",
        "print(scaler.scale_)\n",
        "\n",
        "# the model data will be standardized form of preliminary model data\n",
        "model_data = scaler.fit_transform(prelim_model_data)\n",
        "\n",
        "\n",
        "# dimensions of the polynomial model X input and y response\n",
        "# all in standardized units of measure\n",
        "print('\\nDimensions for model_data:', model_data.shape)"
      ],
      "execution_count": 14,
      "outputs": [
        {
          "output_type": "stream",
          "text": [
            "StandardScaler(copy=True, with_mean=True, with_std=True)\n",
            "[2.25288538e+01 3.61352356e+00 1.13636364e+01 1.11367787e+01\n",
            " 6.91699605e-02 5.54695059e-01 6.28463439e+00 6.85749012e+01\n",
            " 3.79504269e+00 9.54940711e+00 4.08237154e+02 1.84555336e+01\n",
            " 1.26530632e+01]\n",
            "[9.17309810e+00 8.59304135e+00 2.32993957e+01 6.85357058e+00\n",
            " 2.53742935e-01 1.15763115e-01 7.01922514e-01 2.81210326e+01\n",
            " 2.10362836e+00 8.69865112e+00 1.68370495e+02 2.16280519e+00\n",
            " 7.13400164e+00]\n",
            "\n",
            "Dimensions for model_data: (506, 13)\n"
          ],
          "name": "stdout"
        }
      ]
    }
  ]
}